{
  "nbformat": 4,
  "nbformat_minor": 0,
  "metadata": {
    "colab": {
      "provenance": []
    },
    "kernelspec": {
      "name": "python3",
      "display_name": "Python 3"
    },
    "language_info": {
      "name": "python"
    }
  },
  "cells": [
    {
      "cell_type": "markdown",
      "source": [
        "Q1. What are the key concepts of Object-Oriented Programming (OOP)?\n",
        "\n",
        "A1. The key concepts of object oriented programming are as follows:\n",
        "\n",
        "1. Abstraction: Abstraction in oop essentially hides the complex background and implementation details of the code from the user and presents a user friendly interface that is simplified and specidied as per the coder's requirements.\n",
        "\n",
        "2. Encapsulation: In an object oriented programming language, an object hides its functionality and data and encapsulates its internal machanism from other parts of the program. This feature simplifies the code by classifying different segments of the program.\n",
        "\n",
        "3. Inheritance: In object oriented programming language, the feature inheritance allows the establishment of various parent child relationships where the child classes inherit the features, in this case the attributes and the methods of the parent classes\n",
        "\n",
        "4. Polymorphism: It helps us to access different types of objects using the same interface. In other words, one interface can have several implementations in polymorphism. This is another critical area of object oriented programming language."
      ],
      "metadata": {
        "id": "_0Tl0846Ur8B"
      }
    },
    {
      "cell_type": "code",
      "source": [
        "# Q2. Write a Python class for a `Car` with attributes for `make`, `model`, and `year`. Include a method to display\n",
        "#the car's information\n",
        "\n",
        "class Car:\n",
        "  def __init__(self,make,model,year):\n",
        "    self.make=make\n",
        "    self.model=model\n",
        "    self.year=year\n",
        "  def display_carinfo(self):\n",
        "    print(\"The make of the car is:\",self.make)\n",
        "    print(\"The model of the car is:\",self.model)\n",
        "    print(\"The year of the car is:\",self.year)\n",
        "\n",
        "obj=Car('Maruti','Alto',2000)\n",
        "obj.display_carinfo()"
      ],
      "metadata": {
        "colab": {
          "base_uri": "https://localhost:8080/"
        },
        "id": "nJKq6r2jUtQ5",
        "outputId": "8fd99917-4f31-4eff-89b3-73e500cad8af"
      },
      "execution_count": 1,
      "outputs": [
        {
          "output_type": "stream",
          "name": "stdout",
          "text": [
            "The make of the car is: Maruti\n",
            "The model of the car is: Alto\n",
            "The year of the car is: 2000\n"
          ]
        }
      ]
    },
    {
      "cell_type": "markdown",
      "source": [
        "Q3. Explain the difference between instance methods and class methods. Provide an example of each.\n",
        "\n",
        "A3. Instance methods: These are methods that are declared within the class and are defined using the 'self' parameter as the first argument. It represents the instance calling the method.\n",
        "\n",
        "Class method: In case of class method, the first argument is 'cls' and in the main code, in order to access the method, there is no requirement of creation of an object to call a class method."
      ],
      "metadata": {
        "id": "G6Z9SY6FUxpF"
      }
    },
    {
      "cell_type": "code",
      "source": [
        "#Example of instance method and class method\n",
        "\n",
        "class Calc:\n",
        "  def add(self,x,y): #instance method\n",
        "    return x+y\n",
        "  @classmethod\n",
        "  def mul(cls,x,y):  #class method\n",
        "    return x*y\n",
        "m=Calc.mul(6,7)\n",
        "print(m)\n",
        "obj=Calc()\n",
        "a=obj.add(6,7)\n",
        "print(a)"
      ],
      "metadata": {
        "colab": {
          "base_uri": "https://localhost:8080/"
        },
        "id": "1pn6-Qk1U-aB",
        "outputId": "81a27d2a-8cf3-4903-afcf-15963af84d6f"
      },
      "execution_count": 2,
      "outputs": [
        {
          "output_type": "stream",
          "name": "stdout",
          "text": [
            "42\n",
            "13\n"
          ]
        }
      ]
    },
    {
      "cell_type": "markdown",
      "source": [
        "Q4. How does Python implement method overloading? Give an example.\n",
        "\n",
        "A4. In a particular class, when two or more methods are defined by the same name, they are often called overloaded methods. Python does not support method overloading in its traditional form. It will genrally take the latest defines method. But there are ways to acheve method overloading in python. Method overloading also applies in case of inheritance when the parent class and the child class have a function defined with the same name."
      ],
      "metadata": {
        "id": "iwY7fMSdU_6x"
      }
    },
    {
      "cell_type": "code",
      "source": [
        "#Example of method overloading\n",
        "class Calc:\n",
        "  def add(self,x,y):\n",
        "    return x+y\n",
        "  def add(self,x,y,z):\n",
        "    return x+y+z\n",
        "obj=Calc()\n",
        "#a1=obj.add(4,5)\n",
        "a2=obj.add(9,8,7) #due to method overloading, the last defined add() function has been executed\n",
        "#print(a1)\n",
        "print(a2)"
      ],
      "metadata": {
        "colab": {
          "base_uri": "https://localhost:8080/"
        },
        "id": "JZXfYYXaVDkc",
        "outputId": "5e982d75-141e-4d55-db9f-371272d0af18"
      },
      "execution_count": 3,
      "outputs": [
        {
          "output_type": "stream",
          "name": "stdout",
          "text": [
            "24\n"
          ]
        }
      ]
    },
    {
      "cell_type": "markdown",
      "source": [
        "Q5. What are the three types of access modifiers in Python? How are they denoted?\n",
        "\n",
        "A5. The three types of access modifiers in python are public, protected and private.\n",
        "\n",
        "'public' access modifiers: The attributes, or functions with a 'public' access modiefier are accessable from anywhere within the program. Python uses 'public' as the default access modifier.\n",
        "\n",
        "'private' acess modifier: The attributes that use the 'private' access modifier can be accessed within the class only and not from anywhere else. They are denoted by using 2 underscores '__variable_name'.\n",
        "\n",
        "'protected' access modifier:  The attributes that use the 'protected' access modifier can be accessed from with the class and its subclasses. The are denoted by using a single underscore '_variable_name'\n"
      ],
      "metadata": {
        "id": "q9Yu0ecvVHbZ"
      }
    },
    {
      "cell_type": "markdown",
      "source": [
        "Q6. Describe the five types of inheritance in Python. Provide a simple example of multiple inheritance.\n",
        "\n",
        "A6. The five types of inheritance in python are as follows:\n",
        "\n",
        "1. Single inheritance: When a single child class derives its attributes from a single parent class, it is called single inheritance.\n",
        "\n",
        "2. Multiple inheritance: When a single child class derives its attributes and methoda from more than one parent class, it is called multiple inheritance.\n",
        "\n",
        "3. Multilevel inheritance: When the attributes and the methods of the parent class and the child class are further inherited into a new derived class, it is called multilevel inheritance.\n",
        "\n",
        "4. Hierarchical inheritance: When more than one child class derives its attributes and methods from a single parent class, it is called hierarchicla inheritance.\n",
        "\n",
        "5. Hybrid inheritance: The inheritance comprising of a mixture of various types of inheritances mentioned above is called hybrid inheritance."
      ],
      "metadata": {
        "id": "Kqf-j6TqVLdu"
      }
    },
    {
      "cell_type": "code",
      "source": [
        "#Example of multiple inheritance\n",
        "\n",
        "class Car1:\n",
        "  def method1(self):\n",
        "    print(\"The name of the car is Alto\")\n",
        "class Car2:\n",
        "  def method2(self):\n",
        "    print(\"The company of the car is Maruti suzuki\")\n",
        "class Car3(Car1,Car2):\n",
        "  pass\n",
        "obj=Car3()\n",
        "print(obj.method1)"
      ],
      "metadata": {
        "colab": {
          "base_uri": "https://localhost:8080/"
        },
        "id": "Z1H70cK3VcFR",
        "outputId": "c63300eb-3f3f-4116-c8c1-d03d2adaa78f"
      },
      "execution_count": 4,
      "outputs": [
        {
          "output_type": "stream",
          "name": "stdout",
          "text": [
            "<bound method Car1.method1 of <__main__.Car3 object at 0x7d412ed0ddb0>>\n"
          ]
        }
      ]
    },
    {
      "cell_type": "markdown",
      "source": [
        "Q7. What is the Method Resolution Order (MRO) in Python? How can you retrieve it programmatically?\n",
        "\n",
        "A7.Method resolution order is a way through which python looks for a method in the class hierarchy. It uses C3 linearisation for this purpose. In case of inheritance, the class that is inherited first, the method of that class is executed first."
      ],
      "metadata": {
        "id": "B2cb-i8zVRWi"
      }
    },
    {
      "cell_type": "code",
      "source": [
        "#Example of method resolution order\n",
        "\n",
        "class A:\n",
        "  def method1(self):\n",
        "    print(\"Inside class A\")\n",
        "class B:\n",
        "  def method1(self):\n",
        "    print(\"Inside class B\")\n",
        "\n",
        "class C(A,B):\n",
        "  def method(self):\n",
        "    print(\"Inside class C\")\n",
        "\n",
        "obj=C()\n",
        "obj.method1()\n"
      ],
      "metadata": {
        "colab": {
          "base_uri": "https://localhost:8080/"
        },
        "id": "vE1X6xsaVhGn",
        "outputId": "1f44eb6a-1f11-49c7-a50d-55d0babbaf08"
      },
      "execution_count": 5,
      "outputs": [
        {
          "output_type": "stream",
          "name": "stdout",
          "text": [
            "Inside class A\n"
          ]
        }
      ]
    },
    {
      "cell_type": "markdown",
      "source": [
        "Q8.  Create an abstract base class `Shape` with an abstract method `area(). Then create two subclasses Circle` and `Rectangle` that implement the `area()` method"
      ],
      "metadata": {
        "id": "pVnznG7NVlVe"
      }
    },
    {
      "cell_type": "code",
      "source": [
        "import abc\n",
        "class Shape:\n",
        "  @abc.abstractmethod\n",
        "  def area(self):\n",
        "    pass\n",
        "\n",
        "class Circle(Shape):\n",
        "  def area(self):\n",
        "    return \"22/7*radius*radius\"\n",
        "\n",
        "class Rectangle(Shape):\n",
        "  def area(self):\n",
        "    return \"Length*Bredth\"\n",
        "\n",
        "r=Rectangle()\n",
        "r.area()"
      ],
      "metadata": {
        "colab": {
          "base_uri": "https://localhost:8080/",
          "height": 35
        },
        "id": "I0_TUrvCVqRH",
        "outputId": "3bbfa9f8-9ba3-4935-ae1f-3373dcf02b08"
      },
      "execution_count": 6,
      "outputs": [
        {
          "output_type": "execute_result",
          "data": {
            "text/plain": [
              "'Length*Bredth'"
            ],
            "application/vnd.google.colaboratory.intrinsic+json": {
              "type": "string"
            }
          },
          "metadata": {},
          "execution_count": 6
        }
      ]
    },
    {
      "cell_type": "code",
      "source": [
        "c=Circle()\n",
        "c.area()"
      ],
      "metadata": {
        "colab": {
          "base_uri": "https://localhost:8080/",
          "height": 35
        },
        "id": "xyXrWNYIV0Z0",
        "outputId": "494907ae-36c3-487e-f067-de3f716330b8"
      },
      "execution_count": 7,
      "outputs": [
        {
          "output_type": "execute_result",
          "data": {
            "text/plain": [
              "'22/7*radius*radius'"
            ],
            "application/vnd.google.colaboratory.intrinsic+json": {
              "type": "string"
            }
          },
          "metadata": {},
          "execution_count": 7
        }
      ]
    },
    {
      "cell_type": "markdown",
      "source": [
        "Q9. Demonstrate polymorphism by creating a function that can work with different shape objects to calculate and print their areas.\n",
        "\n"
      ],
      "metadata": {
        "id": "4_HuGdX9Vwh4"
      }
    },
    {
      "cell_type": "code",
      "source": [
        "class Rectangle:\n",
        "  def area(self,len,bdt):\n",
        "    return len*bdt\n",
        "class Square:\n",
        "  def area(self,side):\n",
        "    return side**2\n",
        "class Circle:\n",
        "  def area(self,r):\n",
        "    return (22*r*r)/7\n",
        "\n",
        "r=Rectangle()\n",
        "s=Square()\n",
        "c=Circle()\n",
        "print(\"The area of the rectangle is:\", r.area(5,4))\n",
        "print(\"The area of the square is:\",s.area(5))\n",
        "print(\"The area of the circle is:\", c.area(7))\n"
      ],
      "metadata": {
        "colab": {
          "base_uri": "https://localhost:8080/"
        },
        "id": "84uGwyWWWDVU",
        "outputId": "c9f90472-1e09-4583-edf5-089a27ac63ba"
      },
      "execution_count": 8,
      "outputs": [
        {
          "output_type": "stream",
          "name": "stdout",
          "text": [
            "The area of the rectangle is: 20\n",
            "The area of the square is: 25\n",
            "The area of the circle is: 154.0\n"
          ]
        }
      ]
    },
    {
      "cell_type": "markdown",
      "source": [
        "Q10. . Implement encapsulation in a `BankAccount` class with private attributes for `balance` and\n",
        "`account_number`. Include methods for deposit, withdrawal, and balance inquiry."
      ],
      "metadata": {
        "id": "4PQQRUVgWHyt"
      }
    },
    {
      "cell_type": "code",
      "source": [
        "class BankAccount:\n",
        "  def __init__(self,balance,account_number):\n",
        "    self.__balance=balance\n",
        "    self.__account_number=account_number\n",
        "\n",
        "  def deposit(self,amount):\n",
        "    self.__balance=self.__balance+amount\n",
        "    return self.__balance\n",
        "\n",
        "  def withdrawal(self,amount):\n",
        "    self.__balance=self.__balance-amount\n",
        "    return self.__balance\n",
        "\n",
        "  def balance_enquiry(self):\n",
        "   return self.__balance\n",
        "\n",
        "obj=BankAccount(10000,12345789)\n",
        "obj.deposit(5000)\n",
        "obj.withdrawal(2000)\n",
        "print(\"The remaining balance in the account: \",obj.balance_enquiry())\n",
        "\n"
      ],
      "metadata": {
        "colab": {
          "base_uri": "https://localhost:8080/"
        },
        "id": "1ijdRV16WOS4",
        "outputId": "e592e7ec-124d-4c40-c33f-e0670199c319"
      },
      "execution_count": 9,
      "outputs": [
        {
          "output_type": "stream",
          "name": "stdout",
          "text": [
            "The remaining balance in the account:  13000\n"
          ]
        }
      ]
    },
    {
      "cell_type": "markdown",
      "source": [
        "Q11.  Write a class that overrides the `__str__` and `__add__` magic methods. What will these methods allow\n",
        "you to do?\n",
        "\n",
        "A11. __add__: this dunder method allows one to add 2 numbers or concatenate two strings\n",
        "\n",
        "__str__: this method returns the string representation of an object"
      ],
      "metadata": {
        "id": "giaN5c33WScg"
      }
    },
    {
      "cell_type": "markdown",
      "source": [
        " Q12. Create a decorator that measures and prints the execution time of a function."
      ],
      "metadata": {
        "id": "RKYZFfNmYIQe"
      }
    },
    {
      "cell_type": "code",
      "source": [
        "import time\n",
        "def decorator_func(func):\n",
        "  def wrapper():\n",
        "    start=time.perf_counter()\n",
        "    func()\n",
        "    end=time.perf_counter()\n",
        "    print(\"Time of execution of function is:\",end-start,\"seconds\")\n",
        "  return wrapper\n",
        "\n",
        "@decorator_func\n",
        "def func():\n",
        "  print(\"Calculating the execution time.\")\n",
        "\n",
        "func()"
      ],
      "metadata": {
        "colab": {
          "base_uri": "https://localhost:8080/"
        },
        "id": "D-qN0Me2YL1Z",
        "outputId": "686a79f5-b049-4e09-bace-5b6e10968ef8"
      },
      "execution_count": 13,
      "outputs": [
        {
          "output_type": "stream",
          "name": "stdout",
          "text": [
            "Calculating the execution time.\n",
            "Time of execution of function is: 0.0018912780001301144 seconds\n"
          ]
        }
      ]
    },
    {
      "cell_type": "markdown",
      "source": [
        "Q13. Explain the concept of the Diamond Problem in multiple inheritance. How does Python resolve it?\n",
        "\n",
        "A3. Diamond problem occurs when a class inherits from more than one class, it often leads to ambiguity in the execution of methods. Python resolves it using the C3 linearisation or the method order resolution as the method of the parent class that is passed first in the argument of the child first is executed first."
      ],
      "metadata": {
        "id": "SHEjqWOWaSCE"
      }
    },
    {
      "cell_type": "code",
      "source": [
        "#Example of diamond problem\n",
        "class ParentClass1:\n",
        "    def method_par(self):\n",
        "        print(\"method 1 of parent class 1\")\n",
        "class ParentClass2:\n",
        "    def method_par(self):\n",
        "        print(\"method2 of parent class 2\")\n",
        "class ChildClass(ParentClass1, ParentClass2):\n",
        "    def method(self):\n",
        "        print(\"method of child class\")\n",
        "\n",
        "c2 = ChildClass()\n",
        "c2.method_par()"
      ],
      "metadata": {
        "colab": {
          "base_uri": "https://localhost:8080/"
        },
        "id": "9pZRmK4_gyk5",
        "outputId": "857de3bb-64af-4e06-877a-74475f9a1e14"
      },
      "execution_count": 14,
      "outputs": [
        {
          "output_type": "stream",
          "name": "stdout",
          "text": [
            "method 1 of parent class 1\n"
          ]
        }
      ]
    },
    {
      "cell_type": "markdown",
      "source": [
        "Q14. Write a class method that keeps track of the number of instances created from a class"
      ],
      "metadata": {
        "id": "p-zSVOYBhB_2"
      }
    },
    {
      "cell_type": "code",
      "source": [
        "class A:\n",
        "  counter=0\n",
        "  def __init__(self):\n",
        "    A.counter=A.counter+1\n",
        "  @classmethod\n",
        "  def instances(cls):\n",
        "    return cls.counter\n",
        "obj1=A()\n",
        "obj2=A()\n",
        "obj3=A()\n",
        "A.counter\n"
      ],
      "metadata": {
        "colab": {
          "base_uri": "https://localhost:8080/"
        },
        "id": "GGQGSKm-hcIj",
        "outputId": "e9f2cdfa-e9b9-4e02-f916-aaa644fdb4f6"
      },
      "execution_count": 17,
      "outputs": [
        {
          "output_type": "execute_result",
          "data": {
            "text/plain": [
              "3"
            ]
          },
          "metadata": {},
          "execution_count": 17
        }
      ]
    },
    {
      "cell_type": "code",
      "source": [
        "A.instances()"
      ],
      "metadata": {
        "colab": {
          "base_uri": "https://localhost:8080/"
        },
        "id": "pJX6SMTWje2V",
        "outputId": "8fccf5b2-3067-4965-ed6a-9ac1839faac4"
      },
      "execution_count": 18,
      "outputs": [
        {
          "output_type": "execute_result",
          "data": {
            "text/plain": [
              "3"
            ]
          },
          "metadata": {},
          "execution_count": 18
        }
      ]
    },
    {
      "cell_type": "markdown",
      "source": [
        "Q15. Implement a static method in a class that checks if a given year is a leap year."
      ],
      "metadata": {
        "id": "rgofC8nVjTZx"
      }
    },
    {
      "cell_type": "code",
      "source": [
        "class Check:\n",
        "  @staticmethod\n",
        "  def leap_check(year):\n",
        "    if(year%4==0):\n",
        "      return \"The year is Leap Year\"\n",
        "    else:\n",
        "      return \"The year is NOT Leap Year\"\n",
        "Check.leap_check(2004)\n"
      ],
      "metadata": {
        "colab": {
          "base_uri": "https://localhost:8080/",
          "height": 35
        },
        "id": "UhYyaCAqj4hD",
        "outputId": "42f15b06-4e76-4adb-95e9-4b95b3ff10a0"
      },
      "execution_count": 21,
      "outputs": [
        {
          "output_type": "execute_result",
          "data": {
            "text/plain": [
              "'The year is Leap Year'"
            ],
            "application/vnd.google.colaboratory.intrinsic+json": {
              "type": "string"
            }
          },
          "metadata": {},
          "execution_count": 21
        }
      ]
    }
  ]
}